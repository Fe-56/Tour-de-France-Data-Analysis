{
 "cells": [
  {
   "cell_type": "code",
   "execution_count": null,
   "metadata": {},
   "outputs": [],
   "source": [
    "# import the relevant .csv files\n",
    "import pandas as pd\n",
    "tdf_riders = pd.read_csv('TDF_Riders_Info.csv')"
   ]
  },
  {
   "cell_type": "code",
   "execution_count": null,
   "metadata": {},
   "outputs": [],
   "source": [
    "all_tdf_participated_in = tdf_riders['Tour de Frances participated in']\n",
    "tdf_years = []\n",
    "\n",
    "for tdfs_participated_in in all_tdf_participated_in:\n",
    "    tdfs_participated_in_list = tdfs_participated_in.split(\", \")\n",
    "    for tdf_year in tdfs_participated_in_list:\n",
    "        if int(tdf_year) not in tdf_years:\n",
    "            tdf_years.append(int(tdf_year))\n",
    "\n",
    "tdf_years.sort()\n",
    "\n",
    "# all the Tour de France editions that the available riders have raced in (need to get route information for all stages in each of these Tours)\n",
    "print(f\"Tour de Frances: {tdf_years}\")\n",
    "print(f\"Number of Tour de Frances: {len(tdf_years)}\")"
   ]
  },
  {
   "cell_type": "code",
   "execution_count": null,
   "metadata": {},
   "outputs": [],
   "source": [
    "# add the total finish times of each Tour de France edition for each rider in the TDF_Riders dataframe\n",
    "tdf_riders_history = pd.read_csv('TDF_Riders_History.csv')\n",
    "\n",
    "for tdf_year in tdf_years:\n",
    "    for rider_index in range(len(tdf_riders['Rider'])):\n",
    "        rider = tdf_riders.iloc[rider_index]['Rider']\n",
    "        tdfs_participated_in_raw = tdf_riders.iloc[rider_index]['Tour de Frances participated in'].split(\", \")\n",
    "        tdfs_participated_in = []\n",
    "    \n",
    "        for tdf_edition_raw in tdfs_participated_in_raw:\n",
    "            tdfs_participated_in.append(int(tdf_edition_raw))\n",
    "\n",
    "        if tdf_year not in tdfs_participated_in:\n",
    "            continue\n",
    "        else:\n",
    "            tdf_edition_finishes_dataframe = tdf_riders_history.loc[tdf_riders_history['Year'] == tdf_year]\n",
    "            finish_time = tdf_edition_finishes_dataframe.loc[tdf_edition_finishes_dataframe['Rider'] == rider.upper()]['TotalSeconds']\n",
    "            finish_time = finish_time.to_string().split(\" \")[-1]\n",
    "            tdf_riders.at[rider_index, f'{tdf_year} TDF Total Finish Time (s)'] = finish_time\n",
    "\n",
    "tdf_riders.to_csv('TDF_Riders_Timings.csv', sep=',', encoding='utf-8', index=False)"
   ]
  }
 ],
 "metadata": {
  "kernelspec": {
   "display_name": "Python 3",
   "language": "python",
   "name": "python3"
  },
  "language_info": {
   "codemirror_mode": {
    "name": "ipython",
    "version": 3
   },
   "file_extension": ".py",
   "mimetype": "text/x-python",
   "name": "python",
   "nbconvert_exporter": "python",
   "pygments_lexer": "ipython3",
   "version": "3.11.4"
  },
  "orig_nbformat": 4
 },
 "nbformat": 4,
 "nbformat_minor": 2
}
