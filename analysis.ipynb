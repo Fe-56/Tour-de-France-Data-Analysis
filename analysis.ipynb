{
 "cells": [
  {
   "cell_type": "code",
   "execution_count": null,
   "metadata": {},
   "outputs": [],
   "source": [
    "# import the relevant .csv files\n",
    "import pandas as pd\n",
    "tdf_riders = pd.read_csv('TDF_Riders_Info.csv')\n",
    "tdf_riders_history = pd.read_csv('TDF_Riders_History.csv')\n",
    "all_tdf_stages = pd.read_csv('TDF_Stages_History.csv')\n",
    "all_riders = pd.read_csv('All_Riders_Info.csv')"
   ]
  },
  {
   "cell_type": "markdown",
   "metadata": {},
   "source": [
    "Data Cleaning"
   ]
  },
  {
   "cell_type": "code",
   "execution_count": null,
   "metadata": {},
   "outputs": [],
   "source": [
    "all_tdf_participated_in = tdf_riders['Tour de Frances participated in']\n",
    "tdf_editions = []\n",
    "\n",
    "for tdfs_participated_in in all_tdf_participated_in:\n",
    "    tdfs_participated_in_list = tdfs_participated_in.split(\", \")\n",
    "    for tdf_edition in tdfs_participated_in_list:\n",
    "        if int(tdf_edition) not in tdf_editions:\n",
    "            tdf_editions.append(int(tdf_edition))\n",
    "\n",
    "tdf_editions.sort()\n",
    "\n",
    "# all the Tour de France editions that the available riders have raced in (need to get route information for all stages in each of these Tours)\n",
    "print(f\"Tour de Frances: {tdf_editions}\")\n",
    "print(f\"Number of Tour de Frances: {len(tdf_editions)}\")"
   ]
  },
  {
   "cell_type": "code",
   "execution_count": null,
   "metadata": {},
   "outputs": [],
   "source": [
    "def tdf_total_finish_time_column_name(tdf_edition):\n",
    "    return f'{tdf_edition} TDF Total Finish Time (s)'\n",
    "\n",
    "# create the relevant columns in the dataframe first\n",
    "for tdf_edition in tdf_editions:\n",
    "    tdf_riders[tdf_total_finish_time_column_name(tdf_edition)] = ''\n",
    "\n",
    "# add the total finish times of each Tour de France edition for each rider in the TDF_Riders dataframe\n",
    "for tdf_edition in tdf_editions:\n",
    "    for rider_index in range(len(tdf_riders['Rider'])):\n",
    "        rider = tdf_riders.iloc[rider_index]['Rider']\n",
    "        tdfs_participated_in_raw = tdf_riders.iloc[rider_index]['Tour de Frances participated in'].split(\", \")\n",
    "        tdfs_participated_in = []\n",
    "    \n",
    "        for tdf_edition_raw in tdfs_participated_in_raw:\n",
    "            tdfs_participated_in.append(int(tdf_edition_raw))\n",
    "\n",
    "        if tdf_edition not in tdfs_participated_in:\n",
    "            continue\n",
    "        else:\n",
    "            tdf_edition_finishes_dataframe = tdf_riders_history.loc[tdf_riders_history['Year'] == tdf_edition]\n",
    "            finish_time = tdf_edition_finishes_dataframe.loc[tdf_edition_finishes_dataframe['Rider'] == rider.upper()]['TotalSeconds']\n",
    "            finish_time = finish_time.to_string().split(\" \")[-1]\n",
    "            tdf_riders.at[rider_index, tdf_total_finish_time_column_name(tdf_edition)] = finish_time"
   ]
  },
  {
   "cell_type": "markdown",
   "metadata": {},
   "source": [
    "Feature Engineering"
   ]
  },
  {
   "cell_type": "code",
   "execution_count": null,
   "metadata": {},
   "outputs": [],
   "source": [
    "tdf_edition_type_indices_reference = {\n",
    "    'Individual Time Trial': 1,\n",
    "    'Team Time Trial': 2,\n",
    "    'Flat': 3,\n",
    "    'Hilly': 4,\n",
    "    'Mountain Time Trial': 5,\n",
    "    'Mountain': 6\n",
    "}\n",
    "tdf_edition_type_indices = {}\n",
    "tdf_edition_total_distances = {}\n",
    "\n",
    "# get the Tour de France editions raced by the available riders and the information of each of their stages\n",
    "tdf_stages_information = all_tdf_stages.loc[all_tdf_stages['Year'].isin(tdf_editions)]\n",
    "\n",
    "# determine the overall type of each Tour de France edition using weighted average\n",
    "for tdf_edition in tdf_editions:\n",
    "    tdf_edition_stages_information = tdf_stages_information.loc[tdf_stages_information['Year'] == tdf_edition]\n",
    "    tdf_edition_total_distance = float(tdf_edition_stages_information.iloc[0]['TotalTDFDistance'])\n",
    "    tdf_edition_overall_type_index = 0\n",
    "\n",
    "    for tdf_edition_stage_index, tdf_edition_stage_information in tdf_edition_stages_information.iterrows():\n",
    "        tdf_stage_type = tdf_edition_stage_information['Stage Type']\n",
    "        tdf_stage_distance = tdf_edition_stage_information['Distance (km)']\n",
    "        tdf_stage_type_index = tdf_edition_type_indices_reference[tdf_stage_type]\n",
    "        tdf_edition_overall_type_index += tdf_stage_distance * tdf_stage_type_index\n",
    "\n",
    "    tdf_edition_overall_type_index /= tdf_edition_total_distance\n",
    "    tdf_edition_type_indices[tdf_edition] = tdf_edition_overall_type_index\n",
    "    tdf_edition_total_distances[tdf_edition] = tdf_edition_total_distance\n",
    "\n",
    "# the overall type of Tour de France each edition is. the higher the index, the more mountainous it is\n",
    "print(tdf_edition_type_indices)\n",
    "\n",
    "print(tdf_edition_total_distances)"
   ]
  },
  {
   "cell_type": "code",
   "execution_count": null,
   "metadata": {},
   "outputs": [],
   "source": [
    "time_trial = 'Points (Time Trial)'\n",
    "sprint = 'Points (Sprint)'\n",
    "gc = 'Points (GC)'\n",
    "climb = 'Points (Climb)'\n",
    "overall_type = 'Overall Type Index'\n",
    "rider_type_indices_reference = {\n",
    "    time_trial: 1,\n",
    "    sprint: 2,\n",
    "    gc: 3,\n",
    "    climb: 4\n",
    "}\n",
    "rider_type_indices = {}\n",
    "tdf_rider_type_indices = {}\n",
    "\n",
    "# determine the overall type of all available rider\n",
    "tdf_riders_list = tdf_riders['Rider'].to_list()\n",
    "\n",
    "for rider_index, rider_information in all_riders.iterrows():\n",
    "    rider_name = rider_information['Rider']\n",
    "    rider_time_trial_points = rider_information[time_trial]\n",
    "    rider_sprint_points = rider_information[sprint]\n",
    "    rider_gc_points = rider_information[gc]\n",
    "    rider_climb_points = rider_information[climb]\n",
    "    rider_total_points = rider_time_trial_points + rider_sprint_points + rider_gc_points + rider_climb_points\n",
    "    rider_overall_type_index = ((rider_type_indices_reference[time_trial] * rider_time_trial_points) + (rider_type_indices_reference[sprint] * rider_sprint_points) + (rider_type_indices_reference[gc] * rider_gc_points) + (rider_type_indices_reference[climb] * rider_climb_points))/rider_total_points\n",
    "    rider_type_indices[rider_name] = rider_overall_type_index\n",
    "    all_riders.at[rider_index, overall_type] = rider_overall_type_index\n",
    "\n",
    "for tdf_rider_index, tdf_rider_information in tdf_riders.iterrows():\n",
    "    tdf_rider_name = tdf_rider_information['Rider']\n",
    "    tdf_rider_time_trial_points = tdf_rider_information[time_trial]\n",
    "    tdf_rider_sprint_points = tdf_rider_information[sprint]\n",
    "    tdf_rider_gc_points = tdf_rider_information[gc]\n",
    "    tdf_rider_climb_points = tdf_rider_information[climb]\n",
    "    tdf_rider_total_points = tdf_rider_time_trial_points + tdf_rider_sprint_points + tdf_rider_gc_points + tdf_rider_climb_points\n",
    "    tdf_rider_overall_type_index = ((rider_type_indices_reference[time_trial] * tdf_rider_time_trial_points) + (rider_type_indices_reference[sprint] * tdf_rider_sprint_points) + (rider_type_indices_reference[gc] * tdf_rider_gc_points) + (rider_type_indices_reference[climb] * tdf_rider_climb_points))/tdf_rider_total_points\n",
    "    tdf_rider_type_indices[tdf_rider_name] = tdf_rider_overall_type_index\n",
    "    tdf_riders.at[tdf_rider_index, overall_type] = tdf_rider_overall_type_index\n",
    "\n",
    "# the overall type of each rider. the higher the index, the better the rider is at mountainous stages. the lower the index, the better the rider is at time trial and flat stages\n",
    "print(rider_type_indices)\n",
    "all_riders.to_csv('All_Riders_Info_With_Type.csv', sep=',', encoding='utf-8', index=False)\n",
    "tdf_riders.to_csv('TDF_Riders_With_Timing_Type.csv', sep=',', encoding='utf-8', index=False)"
   ]
  },
  {
   "cell_type": "markdown",
   "metadata": {},
   "source": [
    "Features (independent variable) preparation"
   ]
  },
  {
   "cell_type": "code",
   "execution_count": null,
   "metadata": {},
   "outputs": [],
   "source": [
    "# rider features\n",
    "ftp = 'FTP (w)'\n",
    "weight = 'Weight (kg)'\n",
    "power_to_weight_ratio = 'Power-to-Weight Ratio (w/kg)'\n",
    "height = 'Height (m)'\n",
    "tdfs_participated_in = 'Tour de Frances participated in' # to indicate which Tour de France edition to use when training the regression model\n",
    "name = 'Rider' # to indicate which Tour de France total finish timing to use when training the regression model\n",
    "features_riders = tdf_riders[[name, ftp, weight, power_to_weight_ratio, height, overall_type, tdfs_participated_in]].copy()\n",
    "\n",
    "# Tour de France edition features\n",
    "total_distance = 'Total Distance (km)'\n",
    "edition_type = 'Edition Type Index'\n",
    "year = 'Edition Year' # to indicate which rider to use the Tour de France edition features on\n",
    "\n",
    "features_list = []\n",
    "\n",
    "for feature_rider_index, feature_rider_information in features_riders.iterrows():\n",
    "    tdfs_participated_in_raw = feature_rider_information['Tour de Frances participated in'].split(\", \")\n",
    "    tdfs_participated_in = []\n",
    "\n",
    "    for tdf_edition_raw in tdfs_participated_in_raw:\n",
    "        tdfs_participated_in.append(int(tdf_edition_raw))\n",
    "\n",
    "    for tdf_participated_in in tdfs_participated_in:\n",
    "        features_list.append([\n",
    "            feature_rider_information[ftp],\n",
    "            feature_rider_information[weight],\n",
    "            feature_rider_information[power_to_weight_ratio],\n",
    "            feature_rider_information[height],\n",
    "            feature_rider_information[overall_type],\n",
    "            tdf_edition_total_distances[tdf_participated_in],\n",
    "            tdf_edition_type_indices[tdf_participated_in]\n",
    "        ])\n",
    "\n",
    "features = pd.DataFrame(features_list, columns=[ftp, weight, power_to_weight_ratio, height, overall_type, total_distance, edition_type])\n",
    "print(features)"
   ]
  },
  {
   "cell_type": "markdown",
   "metadata": {},
   "source": [
    "Target (dependent variable) preparation"
   ]
  },
  {
   "cell_type": "code",
   "execution_count": null,
   "metadata": {},
   "outputs": [],
   "source": [
    "target_list = []\n",
    "\n",
    "for tdf_rider_index, tdf_rider_information in tdf_riders.iterrows():\n",
    "    tdfs_participated_in_raw = tdf_rider_information['Tour de Frances participated in'].split(\", \")\n",
    "    tdfs_participated_in = []\n",
    "\n",
    "    for tdf_edition_raw in tdfs_participated_in_raw:\n",
    "        tdfs_participated_in.append(int(tdf_edition_raw))\n",
    "\n",
    "    for tdf_participated_in in tdfs_participated_in:\n",
    "        target_list.append(tdf_rider_information[tdf_total_finish_time_column_name(tdf_participated_in)])\n",
    "\n",
    "target = pd.DataFrame(target_list, columns=['TDF Total Finish Time (s)'])\n",
    "print(target)"
   ]
  },
  {
   "cell_type": "markdown",
   "metadata": {},
   "source": [
    "Training the regression model"
   ]
  },
  {
   "cell_type": "code",
   "execution_count": null,
   "metadata": {},
   "outputs": [],
   "source": [
    "# to split the features and target dataframes into testing and training datasets?"
   ]
  }
 ],
 "metadata": {
  "kernelspec": {
   "display_name": "Python 3",
   "language": "python",
   "name": "python3"
  },
  "language_info": {
   "codemirror_mode": {
    "name": "ipython",
    "version": 3
   },
   "file_extension": ".py",
   "mimetype": "text/x-python",
   "name": "python",
   "nbconvert_exporter": "python",
   "pygments_lexer": "ipython3",
   "version": "3.11.4"
  },
  "orig_nbformat": 4
 },
 "nbformat": 4,
 "nbformat_minor": 2
}
